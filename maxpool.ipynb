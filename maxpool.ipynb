{
 "cells": [
  {
   "cell_type": "code",
   "execution_count": 1,
   "metadata": {
    "collapsed": true
   },
   "outputs": [],
   "source": [
    "import numpy as np"
   ]
  },
  {
   "cell_type": "markdown",
   "metadata": {},
   "source": [
    "Creating an 4x4 matrix with range values (1-16)"
   ]
  },
  {
   "cell_type": "markdown",
   "metadata": {},
   "source": [
    "creating a 4x4 matric with 1-16 range numbers"
   ]
  },
  {
   "cell_type": "code",
   "execution_count": 2,
   "metadata": {},
   "outputs": [
    {
     "data": {
      "text/plain": [
       "array([[ 1,  2,  3,  4],\n       [ 5,  6,  7,  8],\n       [ 9, 10, 11, 12],\n       [13, 14, 15, 16]])"
      ]
     },
     "execution_count": 2,
     "metadata": {},
     "output_type": "execute_result"
    }
   ],
   "source": [
    "A = np.arange(1,17).reshape((4,4))\n",
    "\n",
    "A"
   ]
  },
  {
   "cell_type": "markdown",
   "metadata": {},
   "source": [
    "Create accumulator array for new layer"
   ]
  },
  {
   "cell_type": "code",
   "execution_count": 3,
   "metadata": {},
   "outputs": [
    {
     "data": {
      "text/plain": [
       "array([0., 0., 0., 0.])"
      ]
     },
     "execution_count": 3,
     "metadata": {},
     "output_type": "execute_result"
    }
   ],
   "source": [
    "stride = (2, 2)\n",
    "ashape = A.shape\n",
    "# ACC = np.zeros((int((ashape[0]/stride[0])), int((ashape[1]/stride[1]))))\n",
    "ACC = np.zeros(4)\n",
    "ACIDX = np.zeros(4)\n",
    "ACIDY = np.zeros(4)\n",
    "ACC"
   ]
  },
  {
   "cell_type": "code",
   "execution_count": 4,
   "metadata": {},
   "outputs": [
    {
     "data": {
      "text/plain": [
       "array([0., 0., 0., 0.])"
      ]
     },
     "execution_count": 4,
     "metadata": {},
     "output_type": "execute_result"
    }
   ],
   "source": [
    "ACIDX"
   ]
  },
  {
   "cell_type": "markdown",
   "metadata": {},
   "source": [
    "Apply the maxpool filter"
   ]
  },
  {
   "cell_type": "code",
   "execution_count": 8,
   "metadata": {},
   "outputs": [
    {
     "name": "stdout",
     "output_type": "stream",
     "text": [
      "[[ 6.  8.]\n [14. 16.]]\n"
     ]
    }
   ],
   "source": [
    "idx = 0\n",
    "for y in range(0, ashape[0], stride[0]):\n",
    "    for x in range(0, ashape[1], stride[1]):\n",
    "        kernelA = A[y:(y+stride[0]),x:(x+stride[1])]\n",
    "        max = 0\n",
    "        x_ind = 0\n",
    "        y_ind = 0\n",
    "        for winy in kernelA:\n",
    "            x_ind = 0\n",
    "            for winx in winy:\n",
    "                if winx > max:\n",
    "                    max = winx\n",
    "                    ACIDY[idx] = y_ind\n",
    "                    ACIDX[idx] = x_ind\n",
    "                x_ind = x_ind + 1\n",
    "            y_ind = y_ind + 1\n",
    "        ACC[idx] = max\n",
    "        idx = idx + 1\n",
    "ACC = ACC.reshape(stride)\n",
    "print(ACC)\n"
   ]
  },
  {
   "cell_type": "markdown",
   "metadata": {},
   "source": [
    "index store of max indexes of Y and X"
   ]
  },
  {
   "cell_type": "code",
   "execution_count": 6,
   "metadata": {},
   "outputs": [
    {
     "name": "stdout",
     "output_type": "stream",
     "text": [
      "[1. 1. 1. 1.]\n[1. 1. 1. 1.]\n"
     ]
    }
   ],
   "source": [
    "print(ACIDX)\n",
    "print(ACIDY)"
   ]
  },
  {
   "cell_type": "code",
   "execution_count": 14,
   "metadata": {},
   "outputs": [
    {
     "data": {
      "text/plain": [
       "array([[0., 0., 0., 0.],\n       [0., 0., 0., 0.],\n       [0., 0., 0., 0.],\n       [0., 0., 0., 0.]])"
      ]
     },
     "execution_count": 14,
     "metadata": {},
     "output_type": "execute_result"
    }
   ],
   "source": [
    "UA = np.zeros(16).reshape((4,4))\n",
    "UA"
   ]
  },
  {
   "cell_type": "markdown",
   "metadata": {},
   "source": []
  },
  {
   "cell_type": "code",
   "execution_count": 19,
   "metadata": {},
   "outputs": [
    {
     "name": "stdout",
     "output_type": "stream",
     "text": [
      "[[ 0.  0.  0.  0.]\n [ 0.  6.  0.  8.]\n [ 0.  0.  0.  0.]\n [ 0. 14.  0. 16.]]\n"
     ]
    }
   ],
   "source": [
    "flatmax = ACC.reshape((4,))\n",
    "idx = 0\n",
    "for y in range(0, ashape[0], stride[0]):\n",
    "    for x in range(0, ashape[1], stride[1]):\n",
    "        x_pos = int(ACIDX[idx])\n",
    "        y_pos = int(ACIDY[idx])\n",
    "        UA[y:(y+stride[0]),x:(x+stride[1])][y_pos, x_pos] = flatmax[idx]\n",
    "        idx = idx + 1\n",
    "print(UA)"
   ]
  },
  {
   "cell_type": "code",
   "execution_count": null,
   "metadata": {},
   "outputs": [],
   "source": []
  }
 ],
 "metadata": {
  "kernelspec": {
   "display_name": "Python 2",
   "language": "python",
   "name": "python2"
  },
  "language_info": {
   "codemirror_mode": {
    "name": "ipython",
    "version": 2
   },
   "file_extension": ".py",
   "mimetype": "text/x-python",
   "name": "python",
   "nbconvert_exporter": "python",
   "pygments_lexer": "ipython2",
   "version": "2.7.6"
  }
 },
 "nbformat": 4,
 "nbformat_minor": 0
}
